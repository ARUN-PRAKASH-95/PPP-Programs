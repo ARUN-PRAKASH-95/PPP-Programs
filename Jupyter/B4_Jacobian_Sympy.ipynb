{
 "cells": [
  {
   "cell_type": "code",
   "execution_count": 6,
   "metadata": {},
   "outputs": [
    {
     "name": "stdout",
     "output_type": "stream",
     "text": [
      "N1_xi--- -1.6875*xi**2 + 1.125*xi + 0.0625\n",
      "N2_xi--- 5.0625*xi**2 - 1.125*xi - 1.6875\n",
      "N3_xi--- -5.0625*xi**2 - 1.125*xi + 1.6875\n",
      "N4_xi--- 1.6875*xi**2 + 1.125*xi - 0.0625\n",
      "----------------------------------------------------------\n",
      "Answer--- -9.11250001567332e-8*xi**2 + 2.92500000331763e-8*xi + 0.333333363375\n"
     ]
    }
   ],
   "source": [
    "import sympy as sp \n",
    "import numpy as np \n",
    "\n",
    "xi = sp.Symbol('xi')\n",
    "X_coor = np.array([0,0.2222222,0.44444444,0.666666666])\n",
    "\n",
    "N1 = -9/16*(xi+1/3)*(xi-1/3)*(xi-1)\n",
    "N2 = 27/16*(xi+1)*(xi-1/3)*(xi-1)\n",
    "N3 = -27/16*(xi+1)*(xi+1/3)*(xi-1)\n",
    "N4 = 9/16*(xi+1/3)*(xi-1/3)*(xi+1)\n",
    "\n",
    "\n",
    "N1_xi = sp.diff(N1,xi)\n",
    "N2_xi = sp.diff(N2,xi)\n",
    "N3_xi = sp.diff(N3,xi)\n",
    "N4_xi = sp.diff(N4,xi)\n",
    "\n",
    "print('N1_xi---',sp.simplify(N1_xi))\n",
    "print('N2_xi---',sp.simplify(N2_xi))\n",
    "print('N3_xi---',sp.simplify(N3_xi))\n",
    "print('N4_xi---',sp.simplify(N4_xi))\n",
    "print('----------------------------------------------------------')\n",
    "\n",
    "j = N1_xi*X_coor[0] + N2_xi*X_coor[1] + N3_xi*X_coor[2] + N4_xi*X_coor[3]\n",
    "print('Answer---',sp.simplify(j))"
   ]
  },
  {
   "cell_type": "code",
   "execution_count": null,
   "metadata": {},
   "outputs": [],
   "source": []
  }
 ],
 "metadata": {
  "kernelspec": {
   "display_name": "Python 3",
   "language": "python",
   "name": "python3"
  },
  "language_info": {
   "codemirror_mode": {
    "name": "ipython",
    "version": 3
   },
   "file_extension": ".py",
   "mimetype": "text/x-python",
   "name": "python",
   "nbconvert_exporter": "python",
   "pygments_lexer": "ipython3",
   "version": "3.6.9"
  }
 },
 "nbformat": 4,
 "nbformat_minor": 2
}
