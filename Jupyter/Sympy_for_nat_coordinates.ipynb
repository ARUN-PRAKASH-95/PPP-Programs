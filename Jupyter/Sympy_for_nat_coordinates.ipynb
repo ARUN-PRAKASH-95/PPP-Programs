{
 "cells": [
  {
   "cell_type": "code",
   "execution_count": 4,
   "metadata": {},
   "outputs": [
    {
     "data": {
      "text/plain": [
       "{alpha: 0.0, beta: -1.00000000000000}"
      ]
     },
     "execution_count": 4,
     "metadata": {},
     "output_type": "execute_result"
    }
   ],
   "source": [
    "from sympy import *\n",
    "from sympy.solvers.solveset import linsolve\n",
    "\n",
    "alpha,beta = symbols('alpha,beta')\n",
    "F1 = 1/4*(1-alpha)*(1-beta)\n",
    "F2 = 1/4*(1+alpha)*(1-beta)\n",
    "F3 = 1/4*(1+alpha)*(1+beta)\n",
    "F4 = 1/4*(1-alpha)*(1+beta)\n",
    "\n",
    "X1 = -0.1\n",
    "Z1 = -0.1\n",
    "X2 =  0.1\n",
    "Z2 = -0.1\n",
    "X3 =  0.1\n",
    "Z3 =  0.1\n",
    "X4 = -0.1\n",
    "Z4 =  0.1\n",
    "\n",
    "\n",
    "eq1 =  F1*X1 + F2 * X2 + F3 * X3 + F4 * X4\n",
    "eq2 =  F1*Z1 + F2 * Z2 + F3 * Z3 + F4 * Z4 + 0.1\n",
    "\n",
    "solve([eq1, eq2], (alpha,beta))"
   ]
  },
  {
   "cell_type": "code",
   "execution_count": null,
   "metadata": {},
   "outputs": [],
   "source": []
  }
 ],
 "metadata": {
  "kernelspec": {
   "display_name": "Python 3",
   "language": "python",
   "name": "python3"
  },
  "language_info": {
   "codemirror_mode": {
    "name": "ipython",
    "version": 3
   },
   "file_extension": ".py",
   "mimetype": "text/x-python",
   "name": "python",
   "nbconvert_exporter": "python",
   "pygments_lexer": "ipython3",
   "version": "3.6.9"
  }
 },
 "nbformat": 4,
 "nbformat_minor": 2
}
