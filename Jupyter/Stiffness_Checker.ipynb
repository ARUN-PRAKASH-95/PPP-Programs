{
 "cells": [
  {
   "cell_type": "code",
   "execution_count": 37,
   "metadata": {},
   "outputs": [
    {
     "name": "stdout",
     "output_type": "stream",
     "text": [
      "28905793896.5060\n"
     ]
    }
   ],
   "source": [
    "import numpy as np\n",
    "import matplotlib.pyplot as pyplot\n",
    "from scipy.integrate import dblquad\n",
    "from sympy import *\n",
    "x = symbols('x')\n",
    "z = symbols('z')\n",
    "\n",
    "\n",
    "#PARAMETERS\n",
    "\n",
    "E = 75e9           # [Pa] Young's Modulus\n",
    "v = 0.33           # Poissons Ratio\n",
    "G = E/(2*(1+v))\n",
    "First  = E*(1-v)/((1+v)*(1-2*v))\n",
    "Second = v*E/((1+v)*(1-2*v))\n",
    "C_11 = First\n",
    "C_22 = First\n",
    "C_33 = First\n",
    "C_12 = Second\n",
    "C_13 = Second\n",
    "C_23 = Second\n",
    "C_44 = G\n",
    "C_55 = G\n",
    "C_66 = G\n",
    "                           \n",
    "#DO not forget the jacobian for integrating you dip shit\n",
    "    \n",
    "K =  C_11*6.25*0.01*integrate((2*x*z**2 - 2*x*z - z**2 + z)*(2*x*z**2 - 2*x*z - z**2 + z) + z,(x,-1, 1),(z,-1,1))*(2/3) + C_66*0.01*6.25*integrate((2*x*z**2 - 2*x*z - z**2 + z)*(2*x*z**2 - 2*x*z - z**2 + z),(x,-1, 1),(z,-1,1))*(2/3) + C_55*(1/16)*0.01*integrate((x**2 - x) * (z**2 - z )* (x**2 - x) * (z**2 - z) ,(x,-1, 1),(z,-1,1))*(1/2)\n",
    "print(K) \n"
   ]
  },
  {
   "cell_type": "code",
   "execution_count": null,
   "metadata": {},
   "outputs": [],
   "source": []
  }
 ],
 "metadata": {
  "kernelspec": {
   "display_name": "Python 3",
   "language": "python",
   "name": "python3"
  },
  "language_info": {
   "codemirror_mode": {
    "name": "ipython",
    "version": 3
   },
   "file_extension": ".py",
   "mimetype": "text/x-python",
   "name": "python",
   "nbconvert_exporter": "python",
   "pygments_lexer": "ipython3",
   "version": "3.6.9"
  }
 },
 "nbformat": 4,
 "nbformat_minor": 2
}
