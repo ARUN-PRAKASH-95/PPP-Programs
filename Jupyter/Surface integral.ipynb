{
 "cells": [
  {
   "cell_type": "code",
   "execution_count": 17,
   "metadata": {},
   "outputs": [
    {
     "name": "stdout",
     "output_type": "stream",
     "text": [
      "0.00013333333333333337\n",
      "0.000133333333333333\n"
     ]
    }
   ],
   "source": [
    "from sympy import *\n",
    "from scipy.integrate import dblquad\n",
    "import numpy as np\n",
    "\n",
    "ans = dblquad(lambda z, x: x*x, -0.1, 0.1, lambda z: -0.1, lambda z: 0.1)\n",
    "print(ans[0])\n",
    "\n",
    "x = symbols('x')\n",
    "z = symbols('z')\n",
    "ar = np.array([x,z])\n",
    "a = integrate(ar[0]*ar[0],(x,-0.1,0.1),(z,-0.1,0.1))\n",
    "print(a)"
   ]
  },
  {
   "cell_type": "code",
   "execution_count": null,
   "metadata": {},
   "outputs": [],
   "source": []
  }
 ],
 "metadata": {
  "kernelspec": {
   "display_name": "Python 3",
   "language": "python",
   "name": "python3"
  },
  "language_info": {
   "codemirror_mode": {
    "name": "ipython",
    "version": 3
   },
   "file_extension": ".py",
   "mimetype": "text/x-python",
   "name": "python",
   "nbconvert_exporter": "python",
   "pygments_lexer": "ipython3",
   "version": "3.6.9"
  }
 },
 "nbformat": 4,
 "nbformat_minor": 2
}
