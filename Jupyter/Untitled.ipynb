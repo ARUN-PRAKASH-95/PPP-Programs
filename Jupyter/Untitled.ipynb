{
 "cells": [
  {
   "cell_type": "code",
   "execution_count": 18,
   "metadata": {},
   "outputs": [
    {
     "data": {
      "text/latex": [
       "$\\displaystyle 1382131800.08846$"
      ],
      "text/plain": [
       "1382131800.08846"
      ]
     },
     "execution_count": 18,
     "metadata": {},
     "output_type": "execute_result"
    }
   ],
   "source": [
    "import numpy as np\n",
    "import matplotlib.pyplot as pyplot\n",
    "from scipy.integrate import dblquad\n",
    "from sympy import *\n",
    "alpha = symbols('alpha')\n",
    "beta = symbols('beta')\n",
    "xi = symbols('xi')\n",
    "\n",
    "#PARAMETERS\n",
    "a = 0.2            # [m] Square cross section\n",
    "L = 2              # [m] Length of the beam\n",
    "E = 75e9           # [Pa] Young's Modulus\n",
    "v = 0.33           # Poissons Ratio\n",
    "G = E/(2*(1+v))\n",
    "First  = E*(1-v)/((1+v)*(1-2*v))\n",
    "Second = v*E/((1+v)*(1-2*v))\n",
    "C_11 = First\n",
    "C_22 = First\n",
    "C_33 = First\n",
    "C_12 = Second\n",
    "C_13 = Second\n",
    "C_23 = Second\n",
    "C_44 = G\n",
    "C_55 = G\n",
    "C_66 = G\n",
    "\n",
    "\n",
    "#Coordinates of the cross section\n",
    "X1 = -0.1\n",
    "Z1 = -0.1\n",
    "X2 =  0.1\n",
    "Z2 = -0.1\n",
    "X3 =  0.1\n",
    "Z3 =  0.1\n",
    "X4 = -0.1\n",
    "Z4 =  0.1\n",
    "\n",
    "\n",
    "#Along the beam axis(Y)\n",
    "n_elem = 1                                               # No of elements\n",
    "per_elem = 2                                             # Type of the element\n",
    "n_nodes  = (per_elem-1)*n_elem  + 1                      # Total no of nodes \n",
    "# xi =   np.array([0.57735,-0.57735])                      # Gauss points\n",
    "# W_Length   = 1                                           # Weight for gauss quadrature\n",
    "Shape_func = np.array([1/2*(1-xi),1/2*(1+xi)])           # Shape functions\n",
    "N_Der_xi = np.array([-1/2,1/2])                          # Derivative of the shape function (N,xi)\n",
    "X_coor     = np.array([0,L])\n",
    "J_Length   = N_Der_xi@np.transpose(X_coor)                              #Jacobian for the length of the beam\n",
    "N_Der      = np.array([-1/2*(1/J_Length),1/2*(1/J_Length)])             #Derivative of the shape function wrt to physical coordinates(N,y)\n",
    "\n",
    "\n",
    "#Along the Beam cross section (X,Z)\n",
    "#Lagrange polynomials\n",
    "# alpha = np.array([0.57735,0.57735,-0.57735,-0.57735])                     # Gauss points \n",
    "# beta  = np.array([0.57735,-0.57735,0.57735,-0.57735])\n",
    "# W_Cs  = 1                                                                 # weight for gauss quadrature in the cross section\n",
    "Lag_poly = np.array([1/4*(1-alpha)*(1-beta),1/4*(1+alpha)*(1-beta),1/4*(1+alpha)*(1+beta),1/4*(1-alpha)*(1+beta)])\n",
    "n_cross_nodes = 4\n",
    "DOF = 3\n",
    "\n",
    "#Lagrange Derivatives\n",
    "alpha_der = np.array([-1/4*(1-beta),1/4*(1-beta),1/4*(1+beta),-1/4*(1+beta)])         # Derivatives of the lagrange polynomials\n",
    "beta_der  = np.array([-1/4*(1-alpha),-1/4*(1+alpha),1/4*(1+alpha),1/4*(1-alpha)])     # with respect to alpha and beta\n",
    "\n",
    "X_alpha = alpha_der[0]*X1 + alpha_der[1]*X2 + alpha_der[2]*X3 + alpha_der[3]*X4\n",
    "X_beta  = beta_der[0] *X1 + beta_der[1]*X2  + beta_der[2] *X3 + beta_der[3] *X4\n",
    "Z_alpha = alpha_der[0]*Z1 + alpha_der[1]*Z2 + alpha_der[2]*Z3 + alpha_der[3]*Z4\n",
    "Z_beta  = beta_der[0] *Z1 + beta_der[1]*Z2  + beta_der[2] *Z3 + beta_der[3] *Z4\n",
    "\n",
    "J_Cs = (Z_beta*X_alpha - Z_alpha*X_beta)   # Determinant of Jacobian matrix of the cross section\n",
    "J_Cs = np.unique(J_Cs)\n",
    "\n",
    "\n",
    "i=0\n",
    "j=0\n",
    "tau=0\n",
    "s=0\n",
    "K_xy =  C_23*integrate(Lag_poly[tau]*(-2.5*(1-beta))*0.01,(alpha,-1,1),(beta,-1,1))*integrate(N_Der[i]*Shape_func[j],(xi,-1,1)) + C_44*integrate(Lag_poly[tau]*(-2.5*(1-beta))*0.01,(alpha,-1,1),(beta,-1,1))*integrate(Shape_func[i]*N_Der[j],(xi,-1,1))\n",
    "K_xy"
   ]
  },
  {
   "cell_type": "code",
   "execution_count": null,
   "metadata": {},
   "outputs": [],
   "source": []
  }
 ],
 "metadata": {
  "kernelspec": {
   "display_name": "Python 3",
   "language": "python",
   "name": "python3"
  },
  "language_info": {
   "codemirror_mode": {
    "name": "ipython",
    "version": 3
   },
   "file_extension": ".py",
   "mimetype": "text/x-python",
   "name": "python",
   "nbconvert_exporter": "python",
   "pygments_lexer": "ipython3",
   "version": "3.6.9"
  }
 },
 "nbformat": 4,
 "nbformat_minor": 2
}
