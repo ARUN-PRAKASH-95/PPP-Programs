{
 "cells": [
  {
   "cell_type": "code",
   "execution_count": 2,
   "metadata": {},
   "outputs": [
    {
     "name": "stdout",
     "output_type": "stream",
     "text": [
      "1.0\n",
      "[[0.]\n",
      " [1.]\n",
      " [2.]]\n",
      "[0.005]\n"
     ]
    },
    {
     "name": "stderr",
     "output_type": "stream",
     "text": [
      "/home/arun/.local/lib/python3.6/site-packages/ipykernel_launcher.py:48: DeprecationWarning: np.asscalar(a) is deprecated since NumPy v1.16, use a.item() instead\n"
     ]
    }
   ],
   "source": [
    "import numpy as np\n",
    "import matplotlib.pyplot as pyplot\n",
    "import sympy as sp \n",
    "\n",
    "\n",
    "#PARAMETERS\n",
    "a = 0.2            # [m] Square cross section\n",
    "L = 2              # [m] Length of the beam\n",
    "E = 75e9           # [Pa] Young's Modulus\n",
    "v = 0.33           # Poissons Ratio\n",
    "G = E/(2*(1+v))\n",
    "First  = E*(1-v)/((1+v)*(1-2*v))\n",
    "Second = v*E/((1+v)*(1-2*v))\n",
    "C_11 = First\n",
    "C_22 = First\n",
    "C_33 = First\n",
    "C_12 = Second\n",
    "C_13 = Second\n",
    "C_23 = Second\n",
    "C_44 = G\n",
    "C_55 = G\n",
    "C_66 = G\n",
    "#print(C_23,C_44)\n",
    "#Coordinates of the cross section\n",
    "X1 = -0.1\n",
    "Z1 = -0.1\n",
    "X2 =  0.1\n",
    "Z2 = -0.1\n",
    "X3 =  0.1\n",
    "Z3 =  0\n",
    "X4 = -0.1\n",
    "Z4 =  0\n",
    "\n",
    "#Along the beam axis(Y)\n",
    "n_elem = 1                                                                           # No of elements\n",
    "per_elem = 3                                                                         # Type of the element\n",
    "n_nodes  = (per_elem-1)*n_elem  + 1                                                  # No of nodes \n",
    "xi = np.array([0.339981,-0.339981,0.861136,0.861136])                                # Gauss points\n",
    "W_Length   = np.array([0.652145,0.652145,0.347855,0.347855])                                                                      # Weight for gauss quadrature\n",
    "Shape_func = np.array([1/2*(xi**2-xi),1-xi**2,1/2*(xi**2+xi)])                       # Shape functions\n",
    "N_Der_xi = np.array([sp.Symbol('xi')-1/2,-2*sp.Symbol('xi'),sp.Symbol('xi')+1/2])    # Derivative of the shape function (N,xi)\n",
    "\n",
    "\n",
    "#Things that change by changing number of elements\n",
    "X_coor = np.array([[0], \n",
    "                   [L/2],\n",
    "                   [L]])\n",
    "J_Length   = round(np.asscalar(N_Der_xi@X_coor),2)                                             # Jacobian for the length of the beam\n",
    "print(J_Length)\n",
    "N_Der      = np.array([(xi-1/2)*(1/J_Length),-2*xi*(1/J_Length),(xi+1/2)*(1/J_Length)])                         # Derivative of the shape function wrt to physical coordinates(N,y)\n",
    "print(X_coor)\n",
    "\n",
    "#Along the Beam cross section (X,Z)\n",
    "#Lagrange polynomials\n",
    "alpha =  np.array([0.57735,0.57735,-0.57735,-0.57735])                      # Gauss points \n",
    "beta  =  np.array([0.57735,-0.57735,0.57735,-0.57735])\n",
    "W_Cs  = 1                                                                   # Weight for gauss quadrature in the cross section\n",
    "Lag_poly = np.array([1/4*((1-alpha)*(1-beta)),1/4*((1+alpha)*(1-beta)),1/4*((1+alpha)*(1+beta)),1/4*((1-alpha)*(1+beta))])\n",
    "n_cross_nodes = len(Lag_poly)\n",
    "DOF = 3\n",
    "\n",
    "#Lagrange Derivatives\n",
    "alpha_der = np.array([-1/4*(1-beta),1/4*(1-beta),1/4*(1+beta),-1/4*(1+beta)])         # Derivatives of the lagrange polynomials\n",
    "beta_der  = np.array([-1/4*(1-alpha),-1/4*(1+alpha),1/4*(1+alpha),1/4*(1-alpha)])     # with respect to alpha and beta\n",
    "\n",
    "X_alpha = alpha_der[0]*X1 + alpha_der[1]*X2 + alpha_der[2]*X3 + alpha_der[3]*X4\n",
    "X_beta  = beta_der[0] *X1 + beta_der[1]*X2  + beta_der[2] *X3 + beta_der[3] *X4\n",
    "Z_alpha = alpha_der[0]*Z1 + alpha_der[1]*Z2 + alpha_der[2]*Z3 + alpha_der[3]*Z4\n",
    "Z_beta  = beta_der[0] *Z1 + beta_der[1]*Z2  + beta_der[2] *Z3 + beta_der[3] *Z4\n",
    "\n",
    "\n",
    "J_Cs = (Z_beta*X_alpha - Z_alpha*X_beta)              # Determinant of Jacobian matrix of the cross section\n",
    "J_Cs = np.unique(J_Cs)\n",
    "print(J_Cs)\n"
   ]
  },
  {
   "cell_type": "code",
   "execution_count": null,
   "metadata": {},
   "outputs": [],
   "source": []
  }
 ],
 "metadata": {
  "kernelspec": {
   "display_name": "Python 3",
   "language": "python",
   "name": "python3"
  },
  "language_info": {
   "codemirror_mode": {
    "name": "ipython",
    "version": 3
   },
   "file_extension": ".py",
   "mimetype": "text/x-python",
   "name": "python",
   "nbconvert_exporter": "python",
   "pygments_lexer": "ipython3",
   "version": "3.6.9"
  }
 },
 "nbformat": 4,
 "nbformat_minor": 2
}
