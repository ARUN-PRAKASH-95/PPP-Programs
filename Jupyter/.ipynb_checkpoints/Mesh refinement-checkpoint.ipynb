{
 "cells": [
  {
   "cell_type": "code",
   "execution_count": 23,
   "metadata": {},
   "outputs": [
    {
     "ename": "IndentationError",
     "evalue": "unexpected indent (<ipython-input-23-0e3ea4a53f99>, line 15)",
     "output_type": "error",
     "traceback": [
      "\u001b[0;36m  File \u001b[0;32m\"<ipython-input-23-0e3ea4a53f99>\"\u001b[0;36m, line \u001b[0;32m15\u001b[0m\n\u001b[0;31m    meshrefinementfactor = 5\u001b[0m\n\u001b[0m    ^\u001b[0m\n\u001b[0;31mIndentationError\u001b[0m\u001b[0;31m:\u001b[0m unexpected indent\n"
     ]
    }
   ],
   "source": [
    "import numpy as np\n",
    "import matplotlib.pyplot as plt \n",
    "\n",
    "Inner_radius = 1\n",
    "Outer_radius = 100\n",
    "n = 15\n",
    "# print(no_of_elements)\n",
    "\n",
    "\n",
    "\n",
    "\n",
    "\n",
    "# for n in no_of_elements:\n",
    "#     print(n)\n",
    "meshrefinementfactor = 5\n",
    "q=meshrefinementfactor**(1/(n-1))\n",
    "\n",
    "l=(Inner_radius-Outer_radius)*(1-q)/(1-meshrefinementfactor*q)\n",
    "rnode=Outer_radius\n",
    "coordinate=np.array([Outer_radius])\n",
    "    \n",
    "\n",
    "for i in range(len(n)):\n",
    "        rnode=rnode+l\n",
    "        coordinate=np.append(coordinate,rnode)\n",
    "        l=l*q\n",
    "plt.scatter(coordinate,np.ones_like(coordinate))\n",
    "print(np.flip(coordinate))"
   ]
  },
  {
   "cell_type": "code",
   "execution_count": null,
   "metadata": {},
   "outputs": [],
   "source": []
  }
 ],
 "metadata": {
  "kernelspec": {
   "display_name": "Python 3",
   "language": "python",
   "name": "python3"
  },
  "language_info": {
   "codemirror_mode": {
    "name": "ipython",
    "version": 3
   },
   "file_extension": ".py",
   "mimetype": "text/x-python",
   "name": "python",
   "nbconvert_exporter": "python",
   "pygments_lexer": "ipython3",
   "version": "3.6.9"
  }
 },
 "nbformat": 4,
 "nbformat_minor": 2
}
