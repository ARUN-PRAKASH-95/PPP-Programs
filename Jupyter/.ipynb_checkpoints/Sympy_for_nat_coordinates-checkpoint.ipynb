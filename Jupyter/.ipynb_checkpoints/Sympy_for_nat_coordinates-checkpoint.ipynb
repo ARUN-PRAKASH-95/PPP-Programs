{
 "cells": [
  {
   "cell_type": "code",
   "execution_count": 1,
   "metadata": {},
   "outputs": [
    {
     "name": "stdout",
     "output_type": "stream",
     "text": [
      "Epsilon_yy [1.39480634000000e-8 1.39480634000000e-8 1.39480634000000e-8\n",
      " 1.39480634000000e-8]\n"
     ]
    }
   ],
   "source": [
    "from sympy import *\n",
    "from sympy.solvers.solveset import linsolve\n",
    "import numpy as np \n",
    "\n",
    "alpha,beta = symbols('alpha,beta')\n",
    "F1 = 1/4*(1-alpha)*(1-beta)\n",
    "F2 = 1/4*(1+alpha)*(1-beta)\n",
    "F3 = 1/4*(1+alpha)*(1+beta)\n",
    "F4 = 1/4*(1-alpha)*(1+beta)\n",
    "\n",
    "X1 = -0.1\n",
    "Z1 = -0.1\n",
    "X2 =  0.1\n",
    "Z2 = -0.1\n",
    "X3 =  0.1\n",
    "Z3 =  0.1\n",
    "X4 = -0.1\n",
    "Z4 =  0.1\n",
    "\n",
    "X = np.array([0])\n",
    "Z = np.array([0])\n",
    "\n",
    "lis = np.array([])\n",
    "for i in range(len(X)):\n",
    "    eq1 =  F1*X1 + F2 * X2 + F3 * X3 + F4 * X4 - X[i]\n",
    "    eq2 =  F1*Z1 + F2 * Z2 + F3 * Z3 + F4 * Z4 - Z[i]\n",
    "    a = solve([eq1, eq2], (alpha,beta))\n",
    "    lis=np.append(lis,a)\n",
    "\n",
    "    \n",
    "X_nat = np.array([])\n",
    "Y_nat = np.array([])\n",
    "for i in range(len(lis)):\n",
    "    x_nat = lis[i][alpha]\n",
    "    y_nat = lis[i][beta]\n",
    "    X_nat = np.append(X_nat,x_nat)\n",
    "    Y_nat = np.append(Y_nat,y_nat)\n",
    "    \n",
    "print(X_nat,Y_nat)\n",
    "\n",
    "# J_Length = 1\n",
    "# Req_Y_disp = np.array([2.78961268e-08, 2.78961268e-08, 2.78961268e-08, 2.78961268e-08])\n",
    "# Lag_poly = np.array([1/4*(1-X_nat)*(1-Y_nat),1/4*(1+X_nat)*(1-Y_nat),1/4*(1+X_nat)*(1+Y_nat),1/4*(1-X_nat)*(1+Y_nat)])    \n",
    "# Epsilon_yy =  Lag_poly[0]*1/2*(1/J_Length)*Req_Y_disp[1] + Lag_poly[1]*1/2*(1/J_Length)*Req_Y_disp[2] + Lag_poly[2]*1/2*(1/J_Length)*Req_Y_disp[0] + Lag_poly[3]*1/2*(1/J_Length)*Req_Y_disp[3] \n",
    "# print(\"Epsilon_yy\",Epsilon_yy)"
   ]
  },
  {
   "cell_type": "code",
   "execution_count": null,
   "metadata": {},
   "outputs": [],
   "source": []
  }
 ],
 "metadata": {
  "kernelspec": {
   "display_name": "Python 3",
   "language": "python",
   "name": "python3"
  },
  "language_info": {
   "codemirror_mode": {
    "name": "ipython",
    "version": 3
   },
   "file_extension": ".py",
   "mimetype": "text/x-python",
   "name": "python",
   "nbconvert_exporter": "python",
   "pygments_lexer": "ipython3",
   "version": "3.6.9"
  }
 },
 "nbformat": 4,
 "nbformat_minor": 2
}
