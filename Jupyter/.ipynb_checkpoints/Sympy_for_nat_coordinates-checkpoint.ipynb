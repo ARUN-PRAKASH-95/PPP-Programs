{
 "cells": [
  {
   "cell_type": "code",
   "execution_count": 18,
   "metadata": {},
   "outputs": [
    {
     "name": "stdout",
     "output_type": "stream",
     "text": [
      "{alpha: -1.00000000000000, beta: -1.00000000000000}\n",
      "{alpha: 1.00000000000000, beta: -1.00000000000000}\n",
      "{alpha: 1.00000000000000, beta: 1.00000000000000}\n",
      "{alpha: -1.00000000000000, beta: 1.00000000000000}\n"
     ]
    },
    {
     "ename": "KeyError",
     "evalue": "0",
     "output_type": "error",
     "traceback": [
      "\u001b[0;31m---------------------------------------------------------------------------\u001b[0m",
      "\u001b[0;31mKeyError\u001b[0m                                  Traceback (most recent call last)",
      "\u001b[0;32m<ipython-input-18-1f67118fb5e0>\u001b[0m in \u001b[0;36m<module>\u001b[0;34m\u001b[0m\n\u001b[1;32m     30\u001b[0m \u001b[0;34m\u001b[0m\u001b[0m\n\u001b[1;32m     31\u001b[0m \u001b[0;31m# a[beta]  #For accessing the dictionary\u001b[0m\u001b[0;34m\u001b[0m\u001b[0;34m\u001b[0m\u001b[0;34m\u001b[0m\u001b[0m\n\u001b[0;32m---> 32\u001b[0;31m \u001b[0ma\u001b[0m\u001b[0;34m[\u001b[0m\u001b[0;36m0\u001b[0m\u001b[0;34m]\u001b[0m\u001b[0;34m\u001b[0m\u001b[0;34m\u001b[0m\u001b[0m\n\u001b[0m",
      "\u001b[0;31mKeyError\u001b[0m: 0"
     ]
    }
   ],
   "source": [
    "from sympy import *\n",
    "from sympy.solvers.solveset import linsolve\n",
    "import numpy as np \n",
    "\n",
    "alpha,beta = symbols('alpha,beta')\n",
    "F1 = 1/4*(1-alpha)*(1-beta)\n",
    "F2 = 1/4*(1+alpha)*(1-beta)\n",
    "F3 = 1/4*(1+alpha)*(1+beta)\n",
    "F4 = 1/4*(1-alpha)*(1+beta)\n",
    "\n",
    "X1 = -0.1\n",
    "Z1 = -0.1\n",
    "X2 =  0.1\n",
    "Z2 = -0.1\n",
    "X3 =  0.1\n",
    "Z3 =  0.1\n",
    "X4 = -0.1\n",
    "Z4 =  0.1\n",
    "\n",
    "X = np.array([-0.1,0.1,0.1,-0.1])\n",
    "Z = np.array([-0.1,-0.1,0.1,0.1])\n",
    "\n",
    "\n",
    "for i in range(len(X)):\n",
    "    eq1 =  F1*X1 + F2 * X2 + F3 * X3 + F4 * X4 - X[i]\n",
    "    eq2 =  F1*Z1 + F2 * Z2 + F3 * Z3 + F4 * Z4 - Z[i]\n",
    "    a = solve([eq1, eq2], (alpha,beta))\n",
    "    print(a)\n",
    "\n",
    "\n",
    "# a[beta]  #For accessing the dictionary\n"
   ]
  },
  {
   "cell_type": "code",
   "execution_count": null,
   "metadata": {},
   "outputs": [],
   "source": []
  }
 ],
 "metadata": {
  "kernelspec": {
   "display_name": "Python 3",
   "language": "python",
   "name": "python3"
  },
  "language_info": {
   "codemirror_mode": {
    "name": "ipython",
    "version": 3
   },
   "file_extension": ".py",
   "mimetype": "text/x-python",
   "name": "python",
   "nbconvert_exporter": "python",
   "pygments_lexer": "ipython3",
   "version": "3.6.9"
  }
 },
 "nbformat": 4,
 "nbformat_minor": 2
}
