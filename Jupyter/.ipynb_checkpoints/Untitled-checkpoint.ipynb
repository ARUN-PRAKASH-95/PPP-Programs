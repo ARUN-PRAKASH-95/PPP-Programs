{
 "cells": [
  {
   "cell_type": "code",
   "execution_count": 77,
   "metadata": {},
   "outputs": [
    {
     "name": "stdout",
     "output_type": "stream",
     "text": [
      "0.04000000000000001\n"
     ]
    }
   ],
   "source": [
    "import numpy as np\n",
    "import matplotlib.pyplot as pyplot\n",
    "from scipy.integrate import dblquad\n",
    "from sympy import *\n",
    "x = symbols('x')\n",
    "z = symbols('z')\n",
    "\n",
    "\n",
    "#PARAMETERS\n",
    "a = 0.2            #[m] Square cross section\n",
    "L = 2              #[m] Length of the beam\n",
    "E = 75e9           #[Pa] Young's Modulus\n",
    "v = 0.33           #Poissons Ratio\n",
    "G = E/(2*(1+v))\n",
    "First  = E*(1-v)/((1+v)*(1-2*v))\n",
    "Second = v*E/((1+v)*(1-2*v))\n",
    "C_11 = First\n",
    "C_22 = First\n",
    "C_33 = First\n",
    "C_12 = Second\n",
    "C_13 = Second\n",
    "C_23 = Second\n",
    "C_44 = G\n",
    "C_55 = G\n",
    "C_66 = G\n",
    "#print(C_22,C_66,C_44)\n",
    "#Coordinates of the cross section\n",
    "X1 = -0.1\n",
    "Z1 = -0.1\n",
    "X2 =  0.1\n",
    "Z2 = -0.1\n",
    "X3 =  0.1\n",
    "Z3 =  0.1\n",
    "X4 = -0.1\n",
    "Z4 =  0.1\n",
    "\n",
    "#Along the beam axis(Y)\n",
    "n_elem = 1                                  # No of elements\n",
    "n  = 2                                      # No of nodes \n",
    "Epsilon = np.array([0.57735,-0.57735])      # Gauss points\n",
    "Shape_func = np.array([1/2*(1-Epsilon),1/2*(1+Epsilon)])\n",
    "N_Der      = np.array([-1/2,1/2])           #Derivative of the shape function\n",
    "J_Length   =  1                             #Jacobian for the length of the beam\n",
    "W_Length   =  1                             #Weight for the gauss quadrature\n",
    "\n",
    "#Along the Beam cross section (X,Z)\n",
    "#Taylor polynomials N=1\n",
    "T_poly = 3\n",
    "Taylor_poly = np.array([1,x,z])\n",
    "X_der = np.array([0,1,0])\n",
    "Z_der = np.array([0,0,1])\n",
    "\n",
    "tau =1\n",
    "s=1\n",
    "i=0\n",
    "j=1\n",
    "#print(Taylor_poly[tau]*Taylor_poly[s])\n",
    "#K_xx =  C_22*(dblquad(lambda z, x:X_der[tau]*X_der[s] , -0.1, 0.1, lambda z: -0.1, lambda z: 0.1)[0])*(W_Length*np.sum(Shape_func[i]*Shape_func[j]*J_Length)) + C_66*(dblquad(lambda z, x:Z_der[tau]*Z_der[s] , -0.1, 0.1, lambda z: -0.1, lambda z: 0.1)[0])*(W_Length*np.sum(Shape_func[i]*Shape_func[j]*J_Length))  #+ C_44*(dblquad(lambda z, x:Taylor_poly[tau]*Taylor_poly[s] , -0.1, 0.1, lambda z: -0.1, lambda z: 0.1)[0])*(W_Length*np.sum(N_Der[i]*N_Der[j]*J_Length))\n",
    "print()\n"
   ]
  },
  {
   "cell_type": "code",
   "execution_count": 78,
   "metadata": {},
   "outputs": [
    {
     "data": {
      "text/plain": [
       "sympy.core.symbol.Symbol"
      ]
     },
     "execution_count": 78,
     "metadata": {},
     "output_type": "execute_result"
    }
   ],
   "source": [
    "type(x)"
   ]
  },
  {
   "cell_type": "code",
   "execution_count": null,
   "metadata": {},
   "outputs": [],
   "source": []
  }
 ],
 "metadata": {
  "kernelspec": {
   "display_name": "Python 3",
   "language": "python",
   "name": "python3"
  },
  "language_info": {
   "codemirror_mode": {
    "name": "ipython",
    "version": 3
   },
   "file_extension": ".py",
   "mimetype": "text/x-python",
   "name": "python",
   "nbconvert_exporter": "python",
   "pygments_lexer": "ipython3",
   "version": "3.6.9"
  }
 },
 "nbformat": 4,
 "nbformat_minor": 2
}
