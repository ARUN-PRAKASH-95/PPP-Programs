{
 "cells": [
  {
   "cell_type": "code",
   "execution_count": 27,
   "metadata": {},
   "outputs": [
    {
     "name": "stdout",
     "output_type": "stream",
     "text": [
      "[  1.   83.5 100. ]\n"
     ]
    },
    {
     "data": {
      "image/png": "[encoded data removed]",
      "text/plain": [
       "<Figure size 432x288 with 1 Axes>"
      ]
     },
     "metadata": {
      "needs_background": "light"
     },
     "output_type": "display_data"
    }
   ],
   "source": [
    "import numpy as np\n",
    "import matplotlib.pyplot as plt \n",
    "\n",
    "Inner_radius = 1\n",
    "Outer_radius = 100\n",
    "n = 2\n",
    "# print(no_of_elements)\n",
    "\n",
    "\n",
    "\n",
    "\n",
    "\n",
    "# for n in no_of_elements:\n",
    "#     print(n)\n",
    "meshrefinementfactor = 5\n",
    "q=meshrefinementfactor**(1/(n-1))\n",
    "\n",
    "l=(Inner_radius-Outer_radius)*(1-q)/(1-meshrefinementfactor*q)\n",
    "rnode=Outer_radius\n",
    "coordinate=np.array([Outer_radius])\n",
    "    \n",
    "\n",
    "for i in range(n):\n",
    "        rnode=rnode+l\n",
    "        coordinate=np.append(coordinate,rnode)\n",
    "        l=l*q\n",
    "plt.scatter(coordinate,np.ones_like(coordinate))\n",
    "print(np.flip(coordinate))"
   ]
  },
  {
   "cell_type": "code",
   "execution_count": null,
   "metadata": {},
   "outputs": [],
   "source": []
  }
 ],
 "metadata": {
  "kernelspec": {
   "display_name": "Python 3",
   "language": "python",
   "name": "python3"
  },
  "language_info": {
   "codemirror_mode": {
    "name": "ipython",
    "version": 3
   },
   "file_extension": ".py",
   "mimetype": "text/x-python",
   "name": "python",
   "nbconvert_exporter": "python",
   "pygments_lexer": "ipython3",
   "version": "3.6.9"
  }
 },
 "nbformat": 4,
 "nbformat_minor": 2
}
