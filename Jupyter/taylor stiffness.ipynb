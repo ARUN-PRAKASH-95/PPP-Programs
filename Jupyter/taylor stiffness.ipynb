{
 "cells": [
  {
   "cell_type": "code",
   "execution_count": 3,
   "metadata": {},
   "outputs": [
    {
     "name": "stdout",
     "output_type": "stream",
     "text": [
      "0\n"
     ]
    }
   ],
   "source": [
    "import numpy as np\n",
    "import matplotlib.pyplot as pyplot\n",
    "from scipy.integrate import dblquad\n",
    "from sympy import *\n",
    "x = symbols('x')\n",
    "z = symbols('z')\n",
    "\n",
    "\n",
    "#PARAMETERS\n",
    "\n",
    "E = 75e9           #[Pa] Young's Modulus\n",
    "v = 0.33           #Poissons Ratio\n",
    "G = E/(2*(1+v))\n",
    "First  = E*(1-v)/((1+v)*(1-2*v))\n",
    "Second = v*E/((1+v)*(1-2*v))\n",
    "C_11 = First\n",
    "C_22 = First\n",
    "C_33 = First\n",
    "C_12 = Second\n",
    "C_13 = Second\n",
    "C_23 = Second\n",
    "C_44 = G\n",
    "C_55 = G\n",
    "C_66 = G\n",
    "                            #Weight for the gauss quadrature\n",
    "\n",
    "\n",
    "\n",
    "\n",
    "K_xy =  (C_23+C_44)*integrate(1/2*(z**2-z),(x,-1, 1),(z,-1,1))*(1/3)\n",
    "print(K_xy)                         \n"
   ]
  },
  {
   "cell_type": "code",
   "execution_count": null,
   "metadata": {},
   "outputs": [],
   "source": []
  }
 ],
 "metadata": {
  "kernelspec": {
   "display_name": "Python 3",
   "language": "python",
   "name": "python3"
  },
  "language_info": {
   "codemirror_mode": {
    "name": "ipython",
    "version": 3
   },
   "file_extension": ".py",
   "mimetype": "text/x-python",
   "name": "python",
   "nbconvert_exporter": "python",
   "pygments_lexer": "ipython3",
   "version": "3.6.9"
  }
 },
 "nbformat": 4,
 "nbformat_minor": 2
}
