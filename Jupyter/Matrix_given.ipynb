{
 "cells": [
  {
   "cell_type": "code",
   "execution_count": 1,
   "metadata": {},
   "outputs": [
    {
     "name": "stdout",
     "output_type": "stream",
     "text": [
      "Displacement----------------------------------------------\n",
      "[[ 0.00000000e+00]\n",
      " [ 0.00000000e+00]\n",
      " [ 0.00000000e+00]\n",
      " [ 0.00000000e+00]\n",
      " [ 0.00000000e+00]\n",
      " [ 0.00000000e+00]\n",
      " [ 0.00000000e+00]\n",
      " [ 0.00000000e+00]\n",
      " [ 0.00000000e+00]\n",
      " [ 0.00000000e+00]\n",
      " [ 0.00000000e+00]\n",
      " [ 0.00000000e+00]\n",
      " [-1.19367636e-08]\n",
      " [-3.24705005e-07]\n",
      " [-1.70760586e-06]\n",
      " [ 1.19367636e-08]\n",
      " [-3.24705005e-07]\n",
      " [-1.70760586e-06]\n",
      " [-1.19367636e-08]\n",
      " [ 3.24705005e-07]\n",
      " [-1.70760586e-06]\n",
      " [ 1.19367636e-08]\n",
      " [ 3.24705005e-07]\n",
      " [-1.70760586e-06]\n",
      " [-4.51971264e-09]\n",
      " [-6.00513014e-07]\n",
      " [-6.41777678e-06]\n",
      " [ 4.51971264e-09]\n",
      " [-6.00513014e-07]\n",
      " [-6.41777678e-06]\n",
      " [-4.51971264e-09]\n",
      " [ 6.00513014e-07]\n",
      " [-6.41777678e-06]\n",
      " [ 4.51971264e-09]\n",
      " [ 6.00513014e-07]\n",
      " [-6.41777678e-06]]\n"
     ]
    }
   ],
   "source": [
    "import scipy.io\n",
    "import numpy as np\n",
    "mat = scipy.io.loadmat('1B3_1L4_global_stiffness.mat')\n",
    "a = mat['K_glb_constrained']\n",
    "b = mat['K_glb_unConst']\n",
    "\n",
    "\n",
    "a = np.array(a)\n",
    "b = np.array(b)\n",
    "np.savetxt('Glb_constrained.txt',a,delimiter=',')  \n",
    "np.savetxt('Glb_unconstrained.txt',b,delimiter=',')  \n",
    "\n",
    "Load_vector = np.zeros((36,1))\n",
    "Load_vector[36-10] = -12.5\n",
    "Load_vector[36-7]  = -12.5\n",
    "Load_vector[36-4]  = -12.5\n",
    "Load_vector[36-1]  = -12.5\n",
    "\n",
    "\n",
    "\n",
    "Displacement = np.linalg.solve(a,Load_vector)\n",
    "print(\"Displacement----------------------------------------------\")\n",
    "print(Displacement)\n",
    "\n"
   ]
  },
  {
   "cell_type": "code",
   "execution_count": null,
   "metadata": {},
   "outputs": [],
   "source": []
  }
 ],
 "metadata": {
  "kernelspec": {
   "display_name": "Python 3",
   "language": "python",
   "name": "python3"
  },
  "language_info": {
   "codemirror_mode": {
    "name": "ipython",
    "version": 3
   },
   "file_extension": ".py",
   "mimetype": "text/x-python",
   "name": "python",
   "nbconvert_exporter": "python",
   "pygments_lexer": "ipython3",
   "version": "3.6.9"
  }
 },
 "nbformat": 4,
 "nbformat_minor": 4
}
